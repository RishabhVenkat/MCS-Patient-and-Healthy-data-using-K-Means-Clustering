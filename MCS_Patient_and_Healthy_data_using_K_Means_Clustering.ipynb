{
  "nbformat": 4,
  "nbformat_minor": 0,
  "metadata": {
    "colab": {
      "provenance": [],
      "gpuType": "T4",
      "authorship_tag": "ABX9TyP6sTvslr6JjBNA2WS6tGHR",
      "include_colab_link": true
    },
    "kernelspec": {
      "name": "python3",
      "display_name": "Python 3"
    },
    "language_info": {
      "name": "python"
    },
    "accelerator": "GPU"
  },
  "cells": [
    {
      "cell_type": "markdown",
      "metadata": {
        "id": "view-in-github",
        "colab_type": "text"
      },
      "source": [
        "<a href=\"https://colab.research.google.com/github/RishabhVenkat/MCS-Patient-and-Healthy-data-using-K-Means-Clustering/blob/main/MCS_Patient_and_Healthy_data_using_K_Means_Clustering.ipynb\" target=\"_parent\"><img src=\"https://colab.research.google.com/assets/colab-badge.svg\" alt=\"Open In Colab\"/></a>"
      ]
    },
    {
      "cell_type": "markdown",
      "source": [
        "Importing the Dependencies"
      ],
      "metadata": {
        "id": "5hcyFFy4qOWe"
      }
    },
    {
      "cell_type": "code",
      "execution_count": 1,
      "metadata": {
        "id": "CKcQ22oCqHrZ"
      },
      "outputs": [],
      "source": [
        "import numpy as np\n",
        "import pandas as pd\n",
        "import matplotlib.pyplot as plt\n",
        "import seaborn as sns\n",
        "from sklearn.cluster import KMeans"
      ]
    },
    {
      "cell_type": "markdown",
      "source": [
        "Data Collection & Analysis"
      ],
      "metadata": {
        "id": "3gRMxTE2qsbZ"
      }
    },
    {
      "cell_type": "code",
      "source": [
        "# loading the data from a csv file to a Pandas DataFrame\n",
        "coma_data = pd.read_csv('/content/Combined_new.csv')"
      ],
      "metadata": {
        "id": "Kg1fi95jqret"
      },
      "execution_count": 2,
      "outputs": []
    },
    {
      "cell_type": "code",
      "source": [
        "# first 5 rows in the dataframe\n",
        "coma_data.head()"
      ],
      "metadata": {
        "colab": {
          "base_uri": "https://localhost:8080/",
          "height": 255
        },
        "id": "NbvEpr1cylF2",
        "outputId": "69ea7b2c-1872-4f50-e5fa-afe001d2a356"
      },
      "execution_count": 3,
      "outputs": [
        {
          "output_type": "execute_result",
          "data": {
            "text/plain": [
              "  Stage       Fp1       Fpz       Fp2        F7        F3        Fz        F4  \\\n",
              "0  wake  0.898506  0.892530  0.890043  0.884301  0.888179  0.887269  0.902734   \n",
              "1  wake  0.893196  0.897950  0.906057  0.900820  0.888904  0.877845  0.908626   \n",
              "2  wake  0.895884  0.897901  0.898812  0.897219  0.893512  0.884571  0.899801   \n",
              "3  wake  0.888671  0.882936  0.890616  0.882193  0.888837  0.867151  0.889133   \n",
              "4  wake  0.918204  0.922137  0.921976  0.907671  0.908472  0.895479  0.910353   \n",
              "\n",
              "         F8        T3  ...        P4        T6        O1        Oz        O2  \\\n",
              "0  0.918779  0.902925  ...  0.900804  0.915752  0.902447  0.908493  0.908233   \n",
              "1  0.921243  0.931741  ...  0.885650  0.912828  0.899935  0.889221  0.906526   \n",
              "2  0.898925  0.914833  ...  0.885005  0.917989  0.897040  0.912006  0.910115   \n",
              "3  0.889438  0.893618  ...  0.884148  0.914665  0.910524  0.907781  0.916141   \n",
              "4  0.911577  0.902506  ...  0.901469  0.926640  0.914548  0.925689  0.924747   \n",
              "\n",
              "       VEOG       EMG       FCz   hEOG_bi     EMGbi  \n",
              "0  0.728893  0.899645  0.733832  0.731736  0.888462  \n",
              "1  0.716900  0.910329  0.726607  0.768572  0.892856  \n",
              "2  0.731354  0.903914  0.719845  0.753796  0.897482  \n",
              "3  0.701439  0.903294  0.714726  0.728229  0.892324  \n",
              "4  0.734368  0.906524  0.727281  0.750996  0.883454  \n",
              "\n",
              "[5 rows x 27 columns]"
            ],
            "text/html": [
              "\n",
              "  <div id=\"df-5bdff3e8-b65b-4017-b73d-d57faa5a9786\" class=\"colab-df-container\">\n",
              "    <div>\n",
              "<style scoped>\n",
              "    .dataframe tbody tr th:only-of-type {\n",
              "        vertical-align: middle;\n",
              "    }\n",
              "\n",
              "    .dataframe tbody tr th {\n",
              "        vertical-align: top;\n",
              "    }\n",
              "\n",
              "    .dataframe thead th {\n",
              "        text-align: right;\n",
              "    }\n",
              "</style>\n",
              "<table border=\"1\" class=\"dataframe\">\n",
              "  <thead>\n",
              "    <tr style=\"text-align: right;\">\n",
              "      <th></th>\n",
              "      <th>Stage</th>\n",
              "      <th>Fp1</th>\n",
              "      <th>Fpz</th>\n",
              "      <th>Fp2</th>\n",
              "      <th>F7</th>\n",
              "      <th>F3</th>\n",
              "      <th>Fz</th>\n",
              "      <th>F4</th>\n",
              "      <th>F8</th>\n",
              "      <th>T3</th>\n",
              "      <th>...</th>\n",
              "      <th>P4</th>\n",
              "      <th>T6</th>\n",
              "      <th>O1</th>\n",
              "      <th>Oz</th>\n",
              "      <th>O2</th>\n",
              "      <th>VEOG</th>\n",
              "      <th>EMG</th>\n",
              "      <th>FCz</th>\n",
              "      <th>hEOG_bi</th>\n",
              "      <th>EMGbi</th>\n",
              "    </tr>\n",
              "  </thead>\n",
              "  <tbody>\n",
              "    <tr>\n",
              "      <th>0</th>\n",
              "      <td>wake</td>\n",
              "      <td>0.898506</td>\n",
              "      <td>0.892530</td>\n",
              "      <td>0.890043</td>\n",
              "      <td>0.884301</td>\n",
              "      <td>0.888179</td>\n",
              "      <td>0.887269</td>\n",
              "      <td>0.902734</td>\n",
              "      <td>0.918779</td>\n",
              "      <td>0.902925</td>\n",
              "      <td>...</td>\n",
              "      <td>0.900804</td>\n",
              "      <td>0.915752</td>\n",
              "      <td>0.902447</td>\n",
              "      <td>0.908493</td>\n",
              "      <td>0.908233</td>\n",
              "      <td>0.728893</td>\n",
              "      <td>0.899645</td>\n",
              "      <td>0.733832</td>\n",
              "      <td>0.731736</td>\n",
              "      <td>0.888462</td>\n",
              "    </tr>\n",
              "    <tr>\n",
              "      <th>1</th>\n",
              "      <td>wake</td>\n",
              "      <td>0.893196</td>\n",
              "      <td>0.897950</td>\n",
              "      <td>0.906057</td>\n",
              "      <td>0.900820</td>\n",
              "      <td>0.888904</td>\n",
              "      <td>0.877845</td>\n",
              "      <td>0.908626</td>\n",
              "      <td>0.921243</td>\n",
              "      <td>0.931741</td>\n",
              "      <td>...</td>\n",
              "      <td>0.885650</td>\n",
              "      <td>0.912828</td>\n",
              "      <td>0.899935</td>\n",
              "      <td>0.889221</td>\n",
              "      <td>0.906526</td>\n",
              "      <td>0.716900</td>\n",
              "      <td>0.910329</td>\n",
              "      <td>0.726607</td>\n",
              "      <td>0.768572</td>\n",
              "      <td>0.892856</td>\n",
              "    </tr>\n",
              "    <tr>\n",
              "      <th>2</th>\n",
              "      <td>wake</td>\n",
              "      <td>0.895884</td>\n",
              "      <td>0.897901</td>\n",
              "      <td>0.898812</td>\n",
              "      <td>0.897219</td>\n",
              "      <td>0.893512</td>\n",
              "      <td>0.884571</td>\n",
              "      <td>0.899801</td>\n",
              "      <td>0.898925</td>\n",
              "      <td>0.914833</td>\n",
              "      <td>...</td>\n",
              "      <td>0.885005</td>\n",
              "      <td>0.917989</td>\n",
              "      <td>0.897040</td>\n",
              "      <td>0.912006</td>\n",
              "      <td>0.910115</td>\n",
              "      <td>0.731354</td>\n",
              "      <td>0.903914</td>\n",
              "      <td>0.719845</td>\n",
              "      <td>0.753796</td>\n",
              "      <td>0.897482</td>\n",
              "    </tr>\n",
              "    <tr>\n",
              "      <th>3</th>\n",
              "      <td>wake</td>\n",
              "      <td>0.888671</td>\n",
              "      <td>0.882936</td>\n",
              "      <td>0.890616</td>\n",
              "      <td>0.882193</td>\n",
              "      <td>0.888837</td>\n",
              "      <td>0.867151</td>\n",
              "      <td>0.889133</td>\n",
              "      <td>0.889438</td>\n",
              "      <td>0.893618</td>\n",
              "      <td>...</td>\n",
              "      <td>0.884148</td>\n",
              "      <td>0.914665</td>\n",
              "      <td>0.910524</td>\n",
              "      <td>0.907781</td>\n",
              "      <td>0.916141</td>\n",
              "      <td>0.701439</td>\n",
              "      <td>0.903294</td>\n",
              "      <td>0.714726</td>\n",
              "      <td>0.728229</td>\n",
              "      <td>0.892324</td>\n",
              "    </tr>\n",
              "    <tr>\n",
              "      <th>4</th>\n",
              "      <td>wake</td>\n",
              "      <td>0.918204</td>\n",
              "      <td>0.922137</td>\n",
              "      <td>0.921976</td>\n",
              "      <td>0.907671</td>\n",
              "      <td>0.908472</td>\n",
              "      <td>0.895479</td>\n",
              "      <td>0.910353</td>\n",
              "      <td>0.911577</td>\n",
              "      <td>0.902506</td>\n",
              "      <td>...</td>\n",
              "      <td>0.901469</td>\n",
              "      <td>0.926640</td>\n",
              "      <td>0.914548</td>\n",
              "      <td>0.925689</td>\n",
              "      <td>0.924747</td>\n",
              "      <td>0.734368</td>\n",
              "      <td>0.906524</td>\n",
              "      <td>0.727281</td>\n",
              "      <td>0.750996</td>\n",
              "      <td>0.883454</td>\n",
              "    </tr>\n",
              "  </tbody>\n",
              "</table>\n",
              "<p>5 rows × 27 columns</p>\n",
              "</div>\n",
              "    <div class=\"colab-df-buttons\">\n",
              "\n",
              "  <div class=\"colab-df-container\">\n",
              "    <button class=\"colab-df-convert\" onclick=\"convertToInteractive('df-5bdff3e8-b65b-4017-b73d-d57faa5a9786')\"\n",
              "            title=\"Convert this dataframe to an interactive table.\"\n",
              "            style=\"display:none;\">\n",
              "\n",
              "  <svg xmlns=\"http://www.w3.org/2000/svg\" height=\"24px\" viewBox=\"0 -960 960 960\">\n",
              "    <path d=\"M120-120v-720h720v720H120Zm60-500h600v-160H180v160Zm220 220h160v-160H400v160Zm0 220h160v-160H400v160ZM180-400h160v-160H180v160Zm440 0h160v-160H620v160ZM180-180h160v-160H180v160Zm440 0h160v-160H620v160Z\"/>\n",
              "  </svg>\n",
              "    </button>\n",
              "\n",
              "  <style>\n",
              "    .colab-df-container {\n",
              "      display:flex;\n",
              "      gap: 12px;\n",
              "    }\n",
              "\n",
              "    .colab-df-convert {\n",
              "      background-color: #E8F0FE;\n",
              "      border: none;\n",
              "      border-radius: 50%;\n",
              "      cursor: pointer;\n",
              "      display: none;\n",
              "      fill: #1967D2;\n",
              "      height: 32px;\n",
              "      padding: 0 0 0 0;\n",
              "      width: 32px;\n",
              "    }\n",
              "\n",
              "    .colab-df-convert:hover {\n",
              "      background-color: #E2EBFA;\n",
              "      box-shadow: 0px 1px 2px rgba(60, 64, 67, 0.3), 0px 1px 3px 1px rgba(60, 64, 67, 0.15);\n",
              "      fill: #174EA6;\n",
              "    }\n",
              "\n",
              "    .colab-df-buttons div {\n",
              "      margin-bottom: 4px;\n",
              "    }\n",
              "\n",
              "    [theme=dark] .colab-df-convert {\n",
              "      background-color: #3B4455;\n",
              "      fill: #D2E3FC;\n",
              "    }\n",
              "\n",
              "    [theme=dark] .colab-df-convert:hover {\n",
              "      background-color: #434B5C;\n",
              "      box-shadow: 0px 1px 3px 1px rgba(0, 0, 0, 0.15);\n",
              "      filter: drop-shadow(0px 1px 2px rgba(0, 0, 0, 0.3));\n",
              "      fill: #FFFFFF;\n",
              "    }\n",
              "  </style>\n",
              "\n",
              "    <script>\n",
              "      const buttonEl =\n",
              "        document.querySelector('#df-5bdff3e8-b65b-4017-b73d-d57faa5a9786 button.colab-df-convert');\n",
              "      buttonEl.style.display =\n",
              "        google.colab.kernel.accessAllowed ? 'block' : 'none';\n",
              "\n",
              "      async function convertToInteractive(key) {\n",
              "        const element = document.querySelector('#df-5bdff3e8-b65b-4017-b73d-d57faa5a9786');\n",
              "        const dataTable =\n",
              "          await google.colab.kernel.invokeFunction('convertToInteractive',\n",
              "                                                    [key], {});\n",
              "        if (!dataTable) return;\n",
              "\n",
              "        const docLinkHtml = 'Like what you see? Visit the ' +\n",
              "          '<a target=\"_blank\" href=https://colab.research.google.com/notebooks/data_table.ipynb>data table notebook</a>'\n",
              "          + ' to learn more about interactive tables.';\n",
              "        element.innerHTML = '';\n",
              "        dataTable['output_type'] = 'display_data';\n",
              "        await google.colab.output.renderOutput(dataTable, element);\n",
              "        const docLink = document.createElement('div');\n",
              "        docLink.innerHTML = docLinkHtml;\n",
              "        element.appendChild(docLink);\n",
              "      }\n",
              "    </script>\n",
              "  </div>\n",
              "\n",
              "\n",
              "<div id=\"df-dc86bee8-86b8-4e16-8294-72ad1970ac22\">\n",
              "  <button class=\"colab-df-quickchart\" onclick=\"quickchart('df-dc86bee8-86b8-4e16-8294-72ad1970ac22')\"\n",
              "            title=\"Suggest charts\"\n",
              "            style=\"display:none;\">\n",
              "\n",
              "<svg xmlns=\"http://www.w3.org/2000/svg\" height=\"24px\"viewBox=\"0 0 24 24\"\n",
              "     width=\"24px\">\n",
              "    <g>\n",
              "        <path d=\"M19 3H5c-1.1 0-2 .9-2 2v14c0 1.1.9 2 2 2h14c1.1 0 2-.9 2-2V5c0-1.1-.9-2-2-2zM9 17H7v-7h2v7zm4 0h-2V7h2v10zm4 0h-2v-4h2v4z\"/>\n",
              "    </g>\n",
              "</svg>\n",
              "  </button>\n",
              "\n",
              "<style>\n",
              "  .colab-df-quickchart {\n",
              "      --bg-color: #E8F0FE;\n",
              "      --fill-color: #1967D2;\n",
              "      --hover-bg-color: #E2EBFA;\n",
              "      --hover-fill-color: #174EA6;\n",
              "      --disabled-fill-color: #AAA;\n",
              "      --disabled-bg-color: #DDD;\n",
              "  }\n",
              "\n",
              "  [theme=dark] .colab-df-quickchart {\n",
              "      --bg-color: #3B4455;\n",
              "      --fill-color: #D2E3FC;\n",
              "      --hover-bg-color: #434B5C;\n",
              "      --hover-fill-color: #FFFFFF;\n",
              "      --disabled-bg-color: #3B4455;\n",
              "      --disabled-fill-color: #666;\n",
              "  }\n",
              "\n",
              "  .colab-df-quickchart {\n",
              "    background-color: var(--bg-color);\n",
              "    border: none;\n",
              "    border-radius: 50%;\n",
              "    cursor: pointer;\n",
              "    display: none;\n",
              "    fill: var(--fill-color);\n",
              "    height: 32px;\n",
              "    padding: 0;\n",
              "    width: 32px;\n",
              "  }\n",
              "\n",
              "  .colab-df-quickchart:hover {\n",
              "    background-color: var(--hover-bg-color);\n",
              "    box-shadow: 0 1px 2px rgba(60, 64, 67, 0.3), 0 1px 3px 1px rgba(60, 64, 67, 0.15);\n",
              "    fill: var(--button-hover-fill-color);\n",
              "  }\n",
              "\n",
              "  .colab-df-quickchart-complete:disabled,\n",
              "  .colab-df-quickchart-complete:disabled:hover {\n",
              "    background-color: var(--disabled-bg-color);\n",
              "    fill: var(--disabled-fill-color);\n",
              "    box-shadow: none;\n",
              "  }\n",
              "\n",
              "  .colab-df-spinner {\n",
              "    border: 2px solid var(--fill-color);\n",
              "    border-color: transparent;\n",
              "    border-bottom-color: var(--fill-color);\n",
              "    animation:\n",
              "      spin 1s steps(1) infinite;\n",
              "  }\n",
              "\n",
              "  @keyframes spin {\n",
              "    0% {\n",
              "      border-color: transparent;\n",
              "      border-bottom-color: var(--fill-color);\n",
              "      border-left-color: var(--fill-color);\n",
              "    }\n",
              "    20% {\n",
              "      border-color: transparent;\n",
              "      border-left-color: var(--fill-color);\n",
              "      border-top-color: var(--fill-color);\n",
              "    }\n",
              "    30% {\n",
              "      border-color: transparent;\n",
              "      border-left-color: var(--fill-color);\n",
              "      border-top-color: var(--fill-color);\n",
              "      border-right-color: var(--fill-color);\n",
              "    }\n",
              "    40% {\n",
              "      border-color: transparent;\n",
              "      border-right-color: var(--fill-color);\n",
              "      border-top-color: var(--fill-color);\n",
              "    }\n",
              "    60% {\n",
              "      border-color: transparent;\n",
              "      border-right-color: var(--fill-color);\n",
              "    }\n",
              "    80% {\n",
              "      border-color: transparent;\n",
              "      border-right-color: var(--fill-color);\n",
              "      border-bottom-color: var(--fill-color);\n",
              "    }\n",
              "    90% {\n",
              "      border-color: transparent;\n",
              "      border-bottom-color: var(--fill-color);\n",
              "    }\n",
              "  }\n",
              "</style>\n",
              "\n",
              "  <script>\n",
              "    async function quickchart(key) {\n",
              "      const quickchartButtonEl =\n",
              "        document.querySelector('#' + key + ' button');\n",
              "      quickchartButtonEl.disabled = true;  // To prevent multiple clicks.\n",
              "      quickchartButtonEl.classList.add('colab-df-spinner');\n",
              "      try {\n",
              "        const charts = await google.colab.kernel.invokeFunction(\n",
              "            'suggestCharts', [key], {});\n",
              "      } catch (error) {\n",
              "        console.error('Error during call to suggestCharts:', error);\n",
              "      }\n",
              "      quickchartButtonEl.classList.remove('colab-df-spinner');\n",
              "      quickchartButtonEl.classList.add('colab-df-quickchart-complete');\n",
              "    }\n",
              "    (() => {\n",
              "      let quickchartButtonEl =\n",
              "        document.querySelector('#df-dc86bee8-86b8-4e16-8294-72ad1970ac22 button');\n",
              "      quickchartButtonEl.style.display =\n",
              "        google.colab.kernel.accessAllowed ? 'block' : 'none';\n",
              "    })();\n",
              "  </script>\n",
              "</div>\n",
              "\n",
              "    </div>\n",
              "  </div>\n"
            ],
            "application/vnd.google.colaboratory.intrinsic+json": {
              "type": "dataframe",
              "variable_name": "coma_data"
            }
          },
          "metadata": {},
          "execution_count": 3
        }
      ]
    },
    {
      "cell_type": "code",
      "source": [
        "# finding the number of rows and columns\n",
        "coma_data.shape"
      ],
      "metadata": {
        "colab": {
          "base_uri": "https://localhost:8080/"
        },
        "id": "SV6tg17AyuiU",
        "outputId": "d2ff04b0-b002-4815-cb99-2604aab476f5"
      },
      "execution_count": 4,
      "outputs": [
        {
          "output_type": "execute_result",
          "data": {
            "text/plain": [
              "(24925, 27)"
            ]
          },
          "metadata": {},
          "execution_count": 4
        }
      ]
    },
    {
      "cell_type": "code",
      "source": [
        "# getting some informations about the dataset\n",
        "coma_data.info()"
      ],
      "metadata": {
        "colab": {
          "base_uri": "https://localhost:8080/"
        },
        "id": "ODqiz4UkzbLl",
        "outputId": "475bce13-67e4-4d5e-a478-ebc33634b8c0"
      },
      "execution_count": 5,
      "outputs": [
        {
          "output_type": "stream",
          "name": "stdout",
          "text": [
            "<class 'pandas.core.frame.DataFrame'>\n",
            "RangeIndex: 24925 entries, 0 to 24924\n",
            "Data columns (total 27 columns):\n",
            " #   Column   Non-Null Count  Dtype  \n",
            "---  ------   --------------  -----  \n",
            " 0   Stage    24925 non-null  object \n",
            " 1   Fp1      24925 non-null  float64\n",
            " 2   Fpz      24925 non-null  float64\n",
            " 3   Fp2      24925 non-null  float64\n",
            " 4   F7       24925 non-null  float64\n",
            " 5   F3       24925 non-null  float64\n",
            " 6   Fz       24925 non-null  float64\n",
            " 7   F4       24925 non-null  float64\n",
            " 8   F8       24925 non-null  float64\n",
            " 9   T3       24925 non-null  float64\n",
            " 10  C3       24925 non-null  float64\n",
            " 11  Cz       24925 non-null  float64\n",
            " 12  C4       24925 non-null  float64\n",
            " 13  T4       24925 non-null  float64\n",
            " 14  T5       24925 non-null  float64\n",
            " 15  P3       24825 non-null  float64\n",
            " 16  Pz       24825 non-null  float64\n",
            " 17  P4       24825 non-null  float64\n",
            " 18  T6       24825 non-null  float64\n",
            " 19  O1       24825 non-null  float64\n",
            " 20  Oz       24825 non-null  float64\n",
            " 21  O2       24825 non-null  float64\n",
            " 22  VEOG     24825 non-null  float64\n",
            " 23  EMG      24825 non-null  float64\n",
            " 24  FCz      24825 non-null  float64\n",
            " 25  hEOG_bi  24825 non-null  float64\n",
            " 26  EMGbi    24825 non-null  float64\n",
            "dtypes: float64(26), object(1)\n",
            "memory usage: 5.1+ MB\n"
          ]
        }
      ]
    },
    {
      "cell_type": "code",
      "source": [
        "# checking for missing values\n",
        "coma_data.isnull().sum()"
      ],
      "metadata": {
        "colab": {
          "base_uri": "https://localhost:8080/"
        },
        "id": "BDqaQpqa0VFE",
        "outputId": "49ba4989-b674-4ad9-849e-b94e5c226dc6"
      },
      "execution_count": 6,
      "outputs": [
        {
          "output_type": "execute_result",
          "data": {
            "text/plain": [
              "Stage        0\n",
              "Fp1          0\n",
              "Fpz          0\n",
              "Fp2          0\n",
              "F7           0\n",
              "F3           0\n",
              "Fz           0\n",
              "F4           0\n",
              "F8           0\n",
              "T3           0\n",
              "C3           0\n",
              "Cz           0\n",
              "C4           0\n",
              "T4           0\n",
              "T5           0\n",
              "P3         100\n",
              "Pz         100\n",
              "P4         100\n",
              "T6         100\n",
              "O1         100\n",
              "Oz         100\n",
              "O2         100\n",
              "VEOG       100\n",
              "EMG        100\n",
              "FCz        100\n",
              "hEOG_bi    100\n",
              "EMGbi      100\n",
              "dtype: int64"
            ]
          },
          "metadata": {},
          "execution_count": 6
        }
      ]
    },
    {
      "cell_type": "markdown",
      "source": [
        "Choosing the F series columns"
      ],
      "metadata": {
        "id": "qnJv0OCx0vKC"
      }
    },
    {
      "cell_type": "code",
      "source": [
        "X = coma_data.iloc[:, [1, 2, 3, 4, 5, 6, 7, 8]].values"
      ],
      "metadata": {
        "id": "WmhXKaj70lPR"
      },
      "execution_count": 7,
      "outputs": []
    },
    {
      "cell_type": "code",
      "source": [
        "print(X)"
      ],
      "metadata": {
        "colab": {
          "base_uri": "https://localhost:8080/"
        },
        "id": "SxZcwJ-J4uJK",
        "outputId": "dd642153-7f42-4d60-c61b-c53ad95aae10"
      },
      "execution_count": 8,
      "outputs": [
        {
          "output_type": "stream",
          "name": "stdout",
          "text": [
            "[[0.89850569 0.89253031 0.89004288 ... 0.88726931 0.90273444 0.91877859]\n",
            " [0.89319618 0.89795049 0.90605705 ... 0.87784515 0.90862631 0.9212426 ]\n",
            " [0.89588357 0.89790141 0.89881168 ... 0.88457115 0.89980069 0.89892527]\n",
            " ...\n",
            " [0.87876461 0.87323324 0.88184111 ... 0.85987405 0.87914463 0.88543938]\n",
            " [0.86843525 0.8601885  0.86692443 ... 0.85006579 0.86601492 0.86190525]\n",
            " [0.85456462 0.85392526 0.84622005 ... 0.83671149 0.85231813 0.85549118]]\n"
          ]
        }
      ]
    },
    {
      "cell_type": "markdown",
      "source": [
        "Choosing the number of clusters"
      ],
      "metadata": {
        "id": "h1E9sbbG-t-6"
      }
    },
    {
      "cell_type": "markdown",
      "source": [
        "WCSS -> Within Clusters Sum of Squares"
      ],
      "metadata": {
        "id": "qxnnHrNc--9z"
      }
    },
    {
      "cell_type": "code",
      "source": [
        "# finding wcss values for different number of clusters\n",
        "\n",
        "wcss = []\n",
        "\n",
        "for i in range(1, 11):\n",
        "  kmeans = KMeans(n_clusters = i, init = 'k-means++', random_state = 42)\n",
        "  kmeans.fit(X)\n",
        "\n",
        "  wcss.append(kmeans.inertia_)"
      ],
      "metadata": {
        "colab": {
          "base_uri": "https://localhost:8080/"
        },
        "id": "hkcO7CQz4wCr",
        "outputId": "c883d1c4-0e6c-4a3f-aeb6-131eab81505b"
      },
      "execution_count": 9,
      "outputs": [
        {
          "output_type": "stream",
          "name": "stderr",
          "text": [
            "/usr/local/lib/python3.10/dist-packages/sklearn/cluster/_kmeans.py:870: FutureWarning: The default value of `n_init` will change from 10 to 'auto' in 1.4. Set the value of `n_init` explicitly to suppress the warning\n",
            "  warnings.warn(\n",
            "/usr/local/lib/python3.10/dist-packages/sklearn/cluster/_kmeans.py:870: FutureWarning: The default value of `n_init` will change from 10 to 'auto' in 1.4. Set the value of `n_init` explicitly to suppress the warning\n",
            "  warnings.warn(\n",
            "/usr/local/lib/python3.10/dist-packages/sklearn/cluster/_kmeans.py:870: FutureWarning: The default value of `n_init` will change from 10 to 'auto' in 1.4. Set the value of `n_init` explicitly to suppress the warning\n",
            "  warnings.warn(\n",
            "/usr/local/lib/python3.10/dist-packages/sklearn/cluster/_kmeans.py:870: FutureWarning: The default value of `n_init` will change from 10 to 'auto' in 1.4. Set the value of `n_init` explicitly to suppress the warning\n",
            "  warnings.warn(\n",
            "/usr/local/lib/python3.10/dist-packages/sklearn/cluster/_kmeans.py:870: FutureWarning: The default value of `n_init` will change from 10 to 'auto' in 1.4. Set the value of `n_init` explicitly to suppress the warning\n",
            "  warnings.warn(\n",
            "/usr/local/lib/python3.10/dist-packages/sklearn/cluster/_kmeans.py:870: FutureWarning: The default value of `n_init` will change from 10 to 'auto' in 1.4. Set the value of `n_init` explicitly to suppress the warning\n",
            "  warnings.warn(\n",
            "/usr/local/lib/python3.10/dist-packages/sklearn/cluster/_kmeans.py:870: FutureWarning: The default value of `n_init` will change from 10 to 'auto' in 1.4. Set the value of `n_init` explicitly to suppress the warning\n",
            "  warnings.warn(\n",
            "/usr/local/lib/python3.10/dist-packages/sklearn/cluster/_kmeans.py:870: FutureWarning: The default value of `n_init` will change from 10 to 'auto' in 1.4. Set the value of `n_init` explicitly to suppress the warning\n",
            "  warnings.warn(\n",
            "/usr/local/lib/python3.10/dist-packages/sklearn/cluster/_kmeans.py:870: FutureWarning: The default value of `n_init` will change from 10 to 'auto' in 1.4. Set the value of `n_init` explicitly to suppress the warning\n",
            "  warnings.warn(\n",
            "/usr/local/lib/python3.10/dist-packages/sklearn/cluster/_kmeans.py:870: FutureWarning: The default value of `n_init` will change from 10 to 'auto' in 1.4. Set the value of `n_init` explicitly to suppress the warning\n",
            "  warnings.warn(\n"
          ]
        }
      ]
    },
    {
      "cell_type": "code",
      "source": [
        "# plot an elbow graph\n",
        "\n",
        "sns.set()\n",
        "plt.plot(range(1, 11), wcss)\n",
        "plt.title('The Elbow Point Graph')\n",
        "plt.xlabel('Number of Clusters')\n",
        "plt.ylabel('WCSS')\n",
        "plt.show()"
      ],
      "metadata": {
        "colab": {
          "base_uri": "https://localhost:8080/",
          "height": 480
        },
        "id": "UJmwlRF-Bvua",
        "outputId": "aa97f193-ab7a-44e2-912d-3c356df62e74"
      },
      "execution_count": 10,
      "outputs": [
        {
          "output_type": "display_data",
          "data": {
            "text/plain": [
              "<Figure size 640x480 with 1 Axes>"
            ],
            "image/png": "[encoded data removed]"
          },
          "metadata": {}
        }
      ]
    },
    {
      "cell_type": "markdown",
      "source": [
        "Optimum Number of Clusters = 2"
      ],
      "metadata": {
        "id": "rPx9XLi_O3vf"
      }
    },
    {
      "cell_type": "markdown",
      "source": [
        "Training the k-Means Clustering Model"
      ],
      "metadata": {
        "id": "p0l_bu7pPAeh"
      }
    },
    {
      "cell_type": "code",
      "source": [
        "kmeans = KMeans(n_clusters = 2, init = 'k-means++', random_state = 0)\n",
        "\n",
        "# return a label for each data point based on their cluster\n",
        "Y = kmeans.fit_predict(X)\n",
        "\n",
        "print(Y)"
      ],
      "metadata": {
        "colab": {
          "base_uri": "https://localhost:8080/"
        },
        "id": "bMCF-davtcm-",
        "outputId": "696db780-921d-4047-ff4d-893a4936e614"
      },
      "execution_count": 25,
      "outputs": [
        {
          "output_type": "stream",
          "name": "stderr",
          "text": [
            "/usr/local/lib/python3.10/dist-packages/sklearn/cluster/_kmeans.py:870: FutureWarning: The default value of `n_init` will change from 10 to 'auto' in 1.4. Set the value of `n_init` explicitly to suppress the warning\n",
            "  warnings.warn(\n"
          ]
        },
        {
          "output_type": "stream",
          "name": "stdout",
          "text": [
            "[0 0 0 ... 0 0 0]\n"
          ]
        }
      ]
    },
    {
      "cell_type": "markdown",
      "source": [
        "3 Clusters - 0, 1"
      ],
      "metadata": {
        "id": "fyRWfOAaUUlr"
      }
    },
    {
      "cell_type": "markdown",
      "source": [
        "Visualizing all the Clusters"
      ],
      "metadata": {
        "id": "KwKi2_tlRrnb"
      }
    },
    {
      "cell_type": "code",
      "source": [
        "# Check the unique clusters\n",
        "unique_clusters = np.unique(Y)\n",
        "print(f\"Unique clusters: {unique_clusters}\")"
      ],
      "metadata": {
        "colab": {
          "base_uri": "https://localhost:8080/"
        },
        "id": "HFD9-uxEaM6W",
        "outputId": "2de48491-25eb-4b53-9a06-27af74f69013"
      },
      "execution_count": 26,
      "outputs": [
        {
          "output_type": "stream",
          "name": "stdout",
          "text": [
            "Unique clusters: [0 1]\n"
          ]
        }
      ]
    },
    {
      "cell_type": "code",
      "source": [
        "# Verify the centroids\n",
        "print(f\"Number of centroids: {len(kmeans.cluster_centers_)}\")"
      ],
      "metadata": {
        "colab": {
          "base_uri": "https://localhost:8080/"
        },
        "id": "cVGsb_kcaW22",
        "outputId": "4fd2006e-4f69-47eb-af16-b55a7846cc2a"
      },
      "execution_count": 27,
      "outputs": [
        {
          "output_type": "stream",
          "name": "stdout",
          "text": [
            "Number of centroids: 2\n"
          ]
        }
      ]
    },
    {
      "cell_type": "code",
      "source": [
        "# plotting all the clusters and their Centroids\n",
        "\n",
        "import matplotlib.pyplot as plt\n",
        "from sklearn.decomposition import PCA\n",
        "\n",
        "# Assuming X is your data, Y contains the cluster labels, and kmeans is your KMeans model\n",
        "\n",
        "# Apply PCA to reduce to 2D\n",
        "pca = PCA(n_components=2)\n",
        "X_pca = pca.fit_transform(X)\n",
        "centroids_pca = pca.transform(kmeans.cluster_centers_)\n",
        "\n",
        "# Plot the clusters in 2D\n",
        "plt.figure(figsize=(8, 8))\n",
        "plt.scatter(X_pca[Y == 0, 0], X_pca[Y == 0, 1], s=50, c='green', label='Cluster 1')\n",
        "plt.scatter(X_pca[Y == 1, 0], X_pca[Y == 1, 1], s=50, c='red', label='Cluster 2')\n",
        "\n",
        "\n",
        "# Plot the centroids\n",
        "plt.scatter(centroids_pca[:, 0], centroids_pca[:, 1], s=200, c='cyan', label='Centroids', marker='X')\n",
        "\n",
        "plt.title('Coma Groups')\n",
        "plt.xlabel('PCA Component 1')\n",
        "plt.ylabel('PCA Component 2')\n",
        "plt.legend()\n",
        "plt.show()\n"
      ],
      "metadata": {
        "colab": {
          "base_uri": "https://localhost:8080/",
          "height": 727
        },
        "id": "ugAkUfSzQgtV",
        "outputId": "391db623-38c0-46ba-ed38-d72ef73d9e6c"
      },
      "execution_count": 28,
      "outputs": [
        {
          "output_type": "display_data",
          "data": {
            "text/plain": [
              "<Figure size 800x800 with 1 Axes>"
            ],
            "image/png": "[encoded data removed]"
          },
          "metadata": {}
        }
      ]
    },
    {
      "cell_type": "code",
      "source": [],
      "metadata": {
        "id": "eT9T10eTd-rm"
      },
      "execution_count": null,
      "outputs": []
    }
  ]
}